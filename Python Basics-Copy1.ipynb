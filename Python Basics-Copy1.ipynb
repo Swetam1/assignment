{
 "cells": [
  {
   "cell_type": "markdown",
   "id": "89fc8eb6",
   "metadata": {},
   "source": [
    "Q1 Declare two variables, `x` and `y`, and assign them integer values.\n",
    "Swap the values of these variables without using any temporary\n",
    "variable.\n"
   ]
  },
  {
   "cell_type": "code",
   "execution_count": 33,
   "id": "6cdc65b5",
   "metadata": {},
   "outputs": [
    {
     "name": "stdout",
     "output_type": "stream",
     "text": [
      "Before swaping value of x and y%d%d 10 20\n",
      "after swapping value of x and y %d%d 20 10\n"
     ]
    }
   ],
   "source": [
    "x=10\n",
    "y=20\n",
    "print(\"Before swaping value of x and y%d%d\",x,y)\n",
    "x=x+y\n",
    "y=x-y\n",
    "x=x-y\n",
    "print(\"after swapping value of x and y %d%d\",x,y)\n",
    "\n"
   ]
  },
  {
   "cell_type": "markdown",
   "id": "57895936",
   "metadata": {},
   "source": [
    "Q 2 Create a program that calculates the area of a rectangle. Take the\n",
    "length and width as inputs from the user and store them in variables.\n",
    "Calculate and display the area."
   ]
  },
  {
   "cell_type": "code",
   "execution_count": 38,
   "id": "e042065e",
   "metadata": {},
   "outputs": [
    {
     "name": "stdout",
     "output_type": "stream",
     "text": [
      "enter length of rect\n",
      "34\n",
      "enter width of rectangle\n",
      "65\n",
      "area of rectangle 2210\n"
     ]
    }
   ],
   "source": [
    "Rect1=eval(input(\"enter length of rect\\n\"))\n",
    "Rect2=eval(input(\"enter width of rectangle\\n\"))\n",
    "A=Rect1*Rect2\n",
    "print(\"area of rectangle\",A)"
   ]
  },
  {
   "cell_type": "markdown",
   "id": "91d45a7c",
   "metadata": {},
   "source": [
    "Q 3. Write a Python program that converts temperature from Celsius to\n",
    "Fahrenheit. Take the temperature in Celsius as input, store it in a\n",
    "variable, convert it to Fahrenheit, and display the result."
   ]
  },
  {
   "cell_type": "code",
   "execution_count": 41,
   "id": "a46138bd",
   "metadata": {},
   "outputs": [
    {
     "name": "stdout",
     "output_type": "stream",
     "text": [
      "enter temp in celsius 40\n",
      "Celsius to Fahrenheit temp 104.0\n"
     ]
    }
   ],
   "source": [
    "temp1=eval(input(\"enter temp in celsius \"))\n",
    "f=(temp1*9/5)+32\n",
    "print(\"Celsius to Fahrenheit temp\",f)"
   ]
  },
  {
   "cell_type": "markdown",
   "id": "812969c2",
   "metadata": {},
   "source": [
    "String Based question"
   ]
  },
  {
   "cell_type": "markdown",
   "id": "23292ef2",
   "metadata": {},
   "source": [
    "Q1 Write a Python program that takes a string as input and prints the\n",
    "length of the string."
   ]
  },
  {
   "cell_type": "code",
   "execution_count": 9,
   "id": "426cc783",
   "metadata": {},
   "outputs": [
    {
     "data": {
      "text/plain": [
       "23"
      ]
     },
     "execution_count": 9,
     "metadata": {},
     "output_type": "execute_result"
    }
   ],
   "source": [
    "#step 1\n",
    "str=\"hi! welcome to i neuron\"\n",
    "len(str)\n",
    "\n",
    "\n",
    "    \n",
    "    \n",
    "    \n",
    "    "
   ]
  },
  {
   "cell_type": "code",
   "execution_count": 31,
   "id": "ea8b5c02",
   "metadata": {},
   "outputs": [
    {
     "name": "stdout",
     "output_type": "stream",
     "text": [
      "22\n"
     ]
    }
   ],
   "source": [
    "def len_str(str):\n",
    "    Counter=0\n",
    "    for i in str:\n",
    "        Counter+=1\n",
    "    return Counter\n",
    "\n",
    "\n",
    "str=\"hi! welcome in ineuron\"\n",
    "print(len_str(str))"
   ]
  },
  {
   "cell_type": "markdown",
   "id": "bf004093",
   "metadata": {},
   "source": [
    "2 Create a program that takes a sentence from the user and counts the\n",
    "number of vowels (a, e, i, o, u) in the string."
   ]
  },
  {
   "cell_type": "code",
   "execution_count": 46,
   "id": "838b0c9e",
   "metadata": {},
   "outputs": [
    {
     "name": "stdout",
     "output_type": "stream",
     "text": [
      "4\n"
     ]
    }
   ],
   "source": [
    "string=\"esgijjhlgou\"\n",
    "vo=\"aeiouAEIOU\"\n",
    "count=sum(string.count(v) for v in vo)\n",
    "print(count)\n",
    "        \n",
    "    "
   ]
  },
  {
   "cell_type": "code",
   "execution_count": 54,
   "id": "947213ae",
   "metadata": {},
   "outputs": [
    {
     "name": "stdout",
     "output_type": "stream",
     "text": [
      "Enter any string and count vowels\n",
      "hi welcome to i neuron technology\n",
      "12\n"
     ]
    }
   ],
   "source": [
    "import re\n",
    "str=input('Enter any string and count vowels\\n')\n",
    "str1=r'[aeiouAEIOU]'\n",
    "count=len(re.findall(str1,str))\n",
    "print(count)\n",
    "    \n",
    "\n",
    "    "
   ]
  },
  {
   "cell_type": "markdown",
   "id": "a8177b6d",
   "metadata": {},
   "source": [
    "Q 3 Given a string, reverse the order of characters using string slicing and\n",
    "print the reversed string."
   ]
  },
  {
   "cell_type": "code",
   "execution_count": 59,
   "id": "06b1e74a",
   "metadata": {},
   "outputs": [
    {
     "name": "stdout",
     "output_type": "stream",
     "text": [
      "a\n",
      "k\n",
      "i\n",
      "h\n",
      "s\n",
      "e\n"
     ]
    }
   ],
   "source": [
    "str='eshika'\n",
    "a=[]\n",
    "for i in reversed(str):\n",
    "\n",
    "    \n",
    "    print(i)\n",
    "    "
   ]
  },
  {
   "cell_type": "code",
   "execution_count": 62,
   "id": "947f7e89",
   "metadata": {},
   "outputs": [
    {
     "name": "stdout",
     "output_type": "stream",
     "text": [
      "akihse\n"
     ]
    }
   ],
   "source": [
    "str='eshika'\n",
    "a=str[::-1]\n",
    "print(a)"
   ]
  },
  {
   "cell_type": "code",
   "execution_count": 63,
   "id": "57632502",
   "metadata": {},
   "outputs": [
    {
     "name": "stdout",
     "output_type": "stream",
     "text": [
      "enter any stringeshika\n",
      "akihse\n"
     ]
    }
   ],
   "source": [
    "str1=input(\"enter any string\")\n",
    "b=str1[::-1]\n",
    "print(b)"
   ]
  },
  {
   "cell_type": "markdown",
   "id": "ad4b97be",
   "metadata": {},
   "source": [
    "Q 4Write a program that takes a string as input and checks if it is a\n",
    "palindrome (reads the same forwards and backwards)."
   ]
  },
  {
   "cell_type": "code",
   "execution_count": 68,
   "id": "293a213f",
   "metadata": {},
   "outputs": [
    {
     "name": "stdout",
     "output_type": "stream",
     "text": [
      "enter any number or string\n",
      "malayalam\n",
      "yes\n"
     ]
    }
   ],
   "source": [
    "x=input(\"enter any number or string\\n\")\n",
    "w=''\n",
    "for i in x:\n",
    "    w=i+w \n",
    "if(x==w):\n",
    "    print(\"yes\")\n",
    "else:\n",
    "    print(\"no\")"
   ]
  },
  {
   "cell_type": "code",
   "execution_count": null,
   "id": "8f0bfd3d",
   "metadata": {},
   "outputs": [],
   "source": [
    "malayalam"
   ]
  },
  {
   "cell_type": "markdown",
   "id": "af26f762",
   "metadata": {},
   "source": [
    "Q Create a program that takes a string as input and removes all the\n",
    "spaces from it. Print the modified string without spaces."
   ]
  },
  {
   "cell_type": "code",
   "execution_count": 69,
   "id": "c0eb7eb1",
   "metadata": {},
   "outputs": [],
   "source": [
    "import re"
   ]
  },
  {
   "cell_type": "code",
   "execution_count": 82,
   "id": "59b07192",
   "metadata": {},
   "outputs": [
    {
     "name": "stdout",
     "output_type": "stream",
     "text": [
      "ghjkjk1j\n"
     ]
    }
   ],
   "source": [
    "x=\"      ghjk   jk1 j\"\n",
    "x=\"\".join(x.split())\n",
    "print(x)\n",
    "\n"
   ]
  },
  {
   "cell_type": "code",
   "execution_count": null,
   "id": "12d729bf",
   "metadata": {},
   "outputs": [],
   "source": []
  }
 ],
 "metadata": {
  "kernelspec": {
   "display_name": "Python 3 (ipykernel)",
   "language": "python",
   "name": "python3"
  },
  "language_info": {
   "codemirror_mode": {
    "name": "ipython",
    "version": 3
   },
   "file_extension": ".py",
   "mimetype": "text/x-python",
   "name": "python",
   "nbconvert_exporter": "python",
   "pygments_lexer": "ipython3",
   "version": "3.9.12"
  }
 },
 "nbformat": 4,
 "nbformat_minor": 5
}
